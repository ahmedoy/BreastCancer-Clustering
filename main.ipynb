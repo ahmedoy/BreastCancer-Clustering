{
 "cells": [
  {
   "cell_type": "code",
   "execution_count": null,
   "metadata": {},
   "outputs": [],
   "source": [
    "import numpy as np\n",
    "\n",
    "\n",
    "def k_means(X, K, max_iters=100):\n",
    "    # Initialize centroids randomly\n",
    "    centroids = X[np.random.choice(range(X.shape[0]), K, replace=False)]\n",
    "    \n",
    "    for _ in range(max_iters):\n",
    "        # Assign each data point to the nearest centroid\n",
    "        distances = np.linalg.norm(X[:, np.newaxis] - centroids, axis=2)\n",
    "        labels = np.argmin(distances, axis=1)\n",
    "        \n",
    "        # Update centroids\n",
    "        new_centroids = np.array([X[labels == k].mean(axis=0) for k in range(K)])\n",
    "        \n",
    "        # Check convergence\n",
    "        if np.all(centroids == new_centroids):\n",
    "            break\n",
    "        \n",
    "        centroids = new_centroids\n",
    "    \n",
    "    return centroids, labels\n",
    "\n",
    "def pca(X, num_components):\n",
    "    # Compute the covariance matrix\n",
    "    cov_matrix = np.cov(X.T)\n",
    "    \n",
    "    # Compute the eigenvalues and eigenvectors of the covariance matrix\n",
    "    eigenvalues, eigenvectors = np.linalg.eig(cov_matrix)\n",
    "    \n",
    "    # Sort the eigenvalues and eigenvectors in descending order\n",
    "    sorted_indices = np.argsort(eigenvalues)[::-1]\n",
    "    sorted_eigenvalues = eigenvalues[sorted_indices]\n",
    "    sorted_eigenvectors = eigenvectors[:, sorted_indices]\n",
    "    \n",
    "    # Select the top 'num_components' eigenvectors\n",
    "    selected_eigenvectors = sorted_eigenvectors[:, :num_components]\n",
    "    \n",
    "    # Project the data onto the selected eigenvectors\n",
    "    projected_data = np.dot(X, selected_eigenvectors)\n",
    "    \n",
    "    return projected_data\n"
   ]
  }
 ],
 "metadata": {
  "language_info": {
   "name": "python"
  }
 },
 "nbformat": 4,
 "nbformat_minor": 2
}
